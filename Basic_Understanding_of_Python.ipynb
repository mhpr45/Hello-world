{
  "cells": [
    {
      "cell_type": "markdown",
      "metadata": {
        "id": "view-in-github",
        "colab_type": "text"
      },
      "source": [
        "<a href=\"https://colab.research.google.com/github/mhpr45/Hello-world/blob/master/Basic_Understanding_of_Python.ipynb\" target=\"_parent\"><img src=\"https://colab.research.google.com/assets/colab-badge.svg\" alt=\"Open In Colab\"/></a>"
      ]
    },
    {
      "cell_type": "markdown",
      "id": "d27c898c",
      "metadata": {
        "id": "d27c898c"
      },
      "source": [
        "# LAB 01: Basic Understanding of Python"
      ]
    },
    {
      "cell_type": "markdown",
      "id": "2e5c3cb6",
      "metadata": {
        "id": "2e5c3cb6"
      },
      "source": [
        "Python Lists"
      ]
    },
    {
      "cell_type": "code",
      "execution_count": null,
      "id": "d4a92993",
      "metadata": {
        "id": "d4a92993",
        "outputId": "27f2d362-243b-4350-f2c6-2a2d33496f22"
      },
      "outputs": [
        {
          "name": "stdout",
          "output_type": "stream",
          "text": [
            "['apple', 'banana', 'cherry', 45]\n",
            "4\n"
          ]
        }
      ],
      "source": [
        "mylist = [\"apple\", \"banana\", \"cherry\", 45]\n",
        "print(mylist)\n",
        "print(len(mylist))"
      ]
    },
    {
      "cell_type": "markdown",
      "id": "debba2e4",
      "metadata": {
        "id": "debba2e4"
      },
      "source": [
        "Python Tuples\n",
        "A tuple is a collection which is ordered and unchangeable."
      ]
    },
    {
      "cell_type": "code",
      "execution_count": null,
      "id": "05d1a73a",
      "metadata": {
        "id": "05d1a73a"
      },
      "outputs": [],
      "source": [
        "\n",
        "mytuple = (\"apple\", \"banana\", \"cherry\")\n"
      ]
    },
    {
      "cell_type": "markdown",
      "id": "9302d656",
      "metadata": {
        "id": "9302d656"
      },
      "source": [
        "Python Sets\n",
        "Sets are used to store multiple items in a single variable.\n",
        "A set is a collection which is unordered, unchangeable*, and unindexed.\n",
        "*Set items are unchangeable, but you can remove items and add new items.\n",
        "Duplicates Not Allowed"
      ]
    },
    {
      "cell_type": "code",
      "execution_count": null,
      "id": "7e9e7c06",
      "metadata": {
        "id": "7e9e7c06",
        "outputId": "413ad92d-7294-4168-997a-88f86b984421"
      },
      "outputs": [
        {
          "name": "stdout",
          "output_type": "stream",
          "text": [
            "{'apple', 'banana', 'cherry'}\n"
          ]
        }
      ],
      "source": [
        "thisset = {\"apple\", \"banana\", \"cherry\"}\n",
        "print(thisset)\n",
        "\n",
        "# thisset = {\"apple\", \"banana\", \"cherry\", \"apple\"}\n",
        "\n",
        "# print(thisset)"
      ]
    },
    {
      "cell_type": "markdown",
      "id": "135e2651",
      "metadata": {
        "id": "135e2651"
      },
      "source": [
        "Python Dictionaries\n",
        "Dictionaries are used to store data values in key:value pairs.\n",
        "\n",
        "A dictionary is a collection which is ordered*, changeable and do not allow duplicates.\n",
        "\n",
        "As of Python version 3.7, dictionaries are ordered. In Python 3.6 and earlier, dictionaries are unordered.\n",
        "\n",
        "Dictionaries are written with curly brackets, and have keys and values:"
      ]
    },
    {
      "cell_type": "code",
      "execution_count": null,
      "id": "6d3decbd",
      "metadata": {
        "id": "6d3decbd",
        "outputId": "462342f4-743f-4c45-d1b2-163433f503bc"
      },
      "outputs": [
        {
          "name": "stdout",
          "output_type": "stream",
          "text": [
            "{'brand': 'Ford', 'model': 'Mustang', 'year': 1964}\n"
          ]
        }
      ],
      "source": [
        "thisdict = {\n",
        "  \"brand\": \"Ford\",\n",
        "  \"model\": \"Mustang\",\n",
        "  \"year\": 1964\n",
        "}\n",
        "print(thisdict)\n",
        "# print(thisdict[\"brand\"])\n",
        "\n",
        "# thisdict = {\n",
        "#   \"brand\": \"Ford\",\n",
        "#   \"model\": \"Mustang\",\n",
        "#   \"year\": 1964\n",
        "# }\n",
        "# print(thisdict)"
      ]
    },
    {
      "cell_type": "markdown",
      "id": "84845ff3",
      "metadata": {
        "id": "84845ff3"
      },
      "source": [
        "Example 1: Iterating through a string Using for Loop"
      ]
    },
    {
      "cell_type": "code",
      "execution_count": null,
      "id": "9e4f485e",
      "metadata": {
        "id": "9e4f485e",
        "outputId": "bbea3c26-4563-4570-b515-8adbf9cd4a3e"
      },
      "outputs": [
        {
          "name": "stdout",
          "output_type": "stream",
          "text": [
            "['h', 'u', 'm', 'a', 'n']\n"
          ]
        }
      ],
      "source": [
        "h_letters = []\n",
        "\n",
        "for letter in 'human':\n",
        "    h_letters.append(letter)\n",
        "\n",
        "print(h_letters)"
      ]
    },
    {
      "cell_type": "markdown",
      "id": "4e7bb083",
      "metadata": {
        "id": "4e7bb083"
      },
      "source": [
        "Example 2: Iterating through a string Using List Comprehension"
      ]
    },
    {
      "cell_type": "code",
      "execution_count": null,
      "id": "9883dfba",
      "metadata": {
        "id": "9883dfba",
        "outputId": "5e028631-a7e8-47a6-94d9-1c8771d8ceac"
      },
      "outputs": [
        {
          "name": "stdout",
          "output_type": "stream",
          "text": [
            "['h', 'u', 'm', 'a', 'n']\n"
          ]
        }
      ],
      "source": [
        "h_letters = [ letter for letter in 'human' ]\n",
        "print( h_letters)"
      ]
    },
    {
      "cell_type": "raw",
      "id": "901da1e7",
      "metadata": {
        "id": "901da1e7"
      },
      "source": [
        "Syntax of List Comprehension\n",
        "[expression for item in list]"
      ]
    },
    {
      "cell_type": "markdown",
      "id": "5b5bcf3d",
      "metadata": {
        "id": "5b5bcf3d"
      },
      "source": [
        "Example 3: Using Lambda functions inside List"
      ]
    },
    {
      "cell_type": "code",
      "execution_count": null,
      "id": "95a93e97",
      "metadata": {
        "id": "95a93e97",
        "outputId": "f722ffa6-eeec-401e-c8f8-fae7e4b908a1"
      },
      "outputs": [
        {
          "name": "stdout",
          "output_type": "stream",
          "text": [
            "['h', 'u', 'm', 'a', 'n']\n"
          ]
        }
      ],
      "source": [
        "letters = list(map(lambda x: x, 'human'))\n",
        "print(letters)"
      ]
    },
    {
      "cell_type": "markdown",
      "id": "74a4aef0",
      "metadata": {
        "id": "74a4aef0"
      },
      "source": [
        "Conditionals in List Comprehension\n",
        "Example 4: Using if with List Comprehension"
      ]
    },
    {
      "cell_type": "code",
      "execution_count": null,
      "id": "1ac4df1c",
      "metadata": {
        "id": "1ac4df1c",
        "outputId": "3eb9e0e4-08f4-4c78-9c62-4b6e10e25d8a"
      },
      "outputs": [
        {
          "name": "stdout",
          "output_type": "stream",
          "text": [
            "[0, 2, 4, 6, 8, 10, 12, 14, 16, 18]\n"
          ]
        }
      ],
      "source": [
        "number_list = [ x for x in range(20) if x % 2 == 0]\n",
        "print(number_list)"
      ]
    },
    {
      "cell_type": "markdown",
      "id": "5b51b308",
      "metadata": {
        "id": "5b51b308"
      },
      "source": [
        "Example 5: Nested IF with List Comprehension\n"
      ]
    },
    {
      "cell_type": "code",
      "execution_count": null,
      "id": "89a9f6fd",
      "metadata": {
        "id": "89a9f6fd",
        "outputId": "547c93e9-0394-42c6-ee13-b71bded20922"
      },
      "outputs": [
        {
          "name": "stdout",
          "output_type": "stream",
          "text": [
            "[0, 10, 20, 30, 40, 50, 60, 70, 80, 90]\n"
          ]
        }
      ],
      "source": [
        "num_list = [y for y in range(100) if y % 2 == 0 if y % 5 == 0]\n",
        "print(num_list)"
      ]
    },
    {
      "cell_type": "markdown",
      "id": "28f3ac23",
      "metadata": {
        "id": "28f3ac23"
      },
      "source": [
        "Pyplot"
      ]
    },
    {
      "cell_type": "code",
      "execution_count": null,
      "id": "bb8bc503",
      "metadata": {
        "id": "bb8bc503"
      },
      "outputs": [],
      "source": [
        "import matplotlib.pyplot as plt\n",
        "import numpy as np"
      ]
    },
    {
      "cell_type": "markdown",
      "id": "e73ea40e",
      "metadata": {
        "id": "e73ea40e"
      },
      "source": [
        "Draw a line in a diagram from position (0,0) to position (6,250):"
      ]
    },
    {
      "cell_type": "code",
      "execution_count": null,
      "id": "4661ca30",
      "metadata": {
        "id": "4661ca30",
        "outputId": "06912391-7d33-42ce-f034-212ad6a014fb"
      },
      "outputs": [
        {
          "data": {
            "image/png": "[encoded data removed]",
            "text/plain": [
              "<Figure size 432x288 with 1 Axes>"
            ]
          },
          "metadata": {
            "needs_background": "light"
          },
          "output_type": "display_data"
        }
      ],
      "source": [
        "xpoints = np.array([0, 6])\n",
        "ypoints = np.array([0, 250])\n",
        "\n",
        "plt.plot(xpoints, ypoints)\n",
        "plt.show()"
      ]
    },
    {
      "cell_type": "markdown",
      "id": "6d8035dd",
      "metadata": {
        "id": "6d8035dd"
      },
      "source": [
        "Markers\n",
        "You can use the keyword argument marker to emphasize each point with a specified marker:"
      ]
    },
    {
      "cell_type": "code",
      "execution_count": null,
      "id": "b8294fd9",
      "metadata": {
        "id": "b8294fd9",
        "outputId": "b0165670-1e60-4595-8d56-dd836d22ed3e"
      },
      "outputs": [
        {
          "data": {
            "image/png": "[encoded data removed]",
            "text/plain": [
              "<Figure size 432x288 with 1 Axes>"
            ]
          },
          "metadata": {
            "needs_background": "light"
          },
          "output_type": "display_data"
        }
      ],
      "source": [
        "ypoints = np.array([3, 8, 1, 10])\n",
        "\n",
        "plt.plot(ypoints, marker = 'o')\n",
        "plt.show()"
      ]
    },
    {
      "cell_type": "code",
      "execution_count": null,
      "id": "a57894cf",
      "metadata": {
        "id": "a57894cf",
        "outputId": "d7969af1-4974-47ba-a2c1-8cbb7ebfd921"
      },
      "outputs": [
        {
          "ename": "SyntaxError",
          "evalue": "invalid syntax (Temp/ipykernel_23164/3003343136.py, line 1)",
          "output_type": "error",
          "traceback": [
            "\u001b[1;36m  File \u001b[1;32m\"C:\\Users\\CSEJU\\AppData\\Local\\Temp/ipykernel_23164/3003343136.py\"\u001b[1;36m, line \u001b[1;32m1\u001b[0m\n\u001b[1;33m    Format Strings fmt\u001b[0m\n\u001b[1;37m           ^\u001b[0m\n\u001b[1;31mSyntaxError\u001b[0m\u001b[1;31m:\u001b[0m invalid syntax\n"
          ]
        }
      ],
      "source": [
        "Format Strings fmt\n",
        "You can use also use the shortcut string notation parameter to specify the marker.\n",
        "This parameter is also called fmt, and is written with this syntax:\n",
        "marker|line|color"
      ]
    },
    {
      "cell_type": "code",
      "execution_count": null,
      "id": "1f23d428",
      "metadata": {
        "id": "1f23d428"
      },
      "outputs": [],
      "source": [
        ""
      ]
    },
    {
      "cell_type": "markdown",
      "id": "5538c88d",
      "metadata": {
        "id": "5538c88d"
      },
      "source": [
        "Create Labels for a Plot\n"
      ]
    },
    {
      "cell_type": "code",
      "execution_count": null,
      "id": "f2847e8b",
      "metadata": {
        "id": "f2847e8b"
      },
      "outputs": [],
      "source": [
        "import numpy as np\n",
        "import matplotlib.pyplot as plt\n",
        "\n",
        "x = np.array([80, 85, 90, 95, 100, 105, 110, 115, 120, 125])\n",
        "y = np.array([240, 250, 260, 270, 280, 290, 300, 310, 320, 330])\n",
        "\n",
        "plt.plot(x, y)\n",
        "plt.title(\"Sports Watch Data\")\n",
        "plt.xlabel(\"Average Pulse\")\n",
        "plt.ylabel(\"Calorie Burnage\")\n",
        "\n",
        "plt.show()"
      ]
    },
    {
      "cell_type": "markdown",
      "id": "a4a280c7",
      "metadata": {
        "id": "a4a280c7"
      },
      "source": [
        "Add Grid Lines to a Plot\n"
      ]
    },
    {
      "cell_type": "code",
      "execution_count": null,
      "id": "498c35bb",
      "metadata": {
        "id": "498c35bb"
      },
      "outputs": [],
      "source": [
        "x = np.array([80, 85, 90, 95, 100, 105, 110, 115, 120, 125])\n",
        "y = np.array([240, 250, 260, 270, 280, 290, 300, 310, 320, 330])\n",
        "\n",
        "plt.title(\"Sports Watch Data\")\n",
        "plt.xlabel(\"Average Pulse\")\n",
        "plt.ylabel(\"Calorie Burnage\")\n",
        "\n",
        "plt.plot(x, y,marker = 'o', ms = 10, mec = 'r', mfc = 'g', ls = '-', linewidth = '2.5')\n",
        "\n",
        "plt.grid()\n",
        "# color = 'green', linestyle = '--', linewidth = 0.5\n",
        "plt.show()"
      ]
    },
    {
      "cell_type": "code",
      "execution_count": null,
      "id": "2e27feb0",
      "metadata": {
        "id": "2e27feb0"
      },
      "outputs": [],
      "source": [
        "Matplotlib Subplot"
      ]
    },
    {
      "cell_type": "code",
      "execution_count": null,
      "id": "97e26943",
      "metadata": {
        "id": "97e26943"
      },
      "outputs": [],
      "source": [
        "#plot 1:\n",
        "x = np.array([0, 1, 2, 3])\n",
        "y = np.array([3, 8, 1, 10])\n",
        "\n",
        "plt.subplot(1, 2, 1)\n",
        "plt.plot(x,y)\n",
        "plt.title(\"SALES\")\n",
        "\n",
        "#plot 2:\n",
        "x = np.array([0, 1, 2, 3])\n",
        "y = np.array([10, 20, 30, 40])\n",
        "\n",
        "\n",
        "plt.subplot(1, 2, 2)\n",
        "plt.plot(x,y)\n",
        "# plt.title(\"INCOME\")\n",
        "\n",
        "\n",
        "plt.suptitle(\"MY SHOP\")\n",
        "plt.show()"
      ]
    },
    {
      "cell_type": "markdown",
      "id": "f7d2ce92",
      "metadata": {
        "id": "f7d2ce92"
      },
      "source": [
        "Plot multiple plots in Matplotlib"
      ]
    },
    {
      "cell_type": "code",
      "execution_count": null,
      "id": "4a4fde31",
      "metadata": {
        "id": "4a4fde31"
      },
      "outputs": [],
      "source": [
        "# importing libraries\n",
        "import matplotlib.pyplot as plt\n",
        "import numpy as np\n",
        "import math\n",
        "  \n",
        "# Get the angles from 0 to 2 pie (360 degree) in narray object\n",
        "X = np.arange(0, math.pi*2, 0.05)\n",
        "  \n",
        "# Using built-in trigonometric function we can directly plot\n",
        "# the given cosine wave for the given angles\n",
        "Y1 = np.sin(X)\n",
        "Y2 = np.cos(X)\n",
        "Y3 = np.tan(X)\n",
        "Y4 = np.tanh(X)\n",
        "  \n",
        "# Initialise the subplot function using number of rows and columns\n",
        "figure, axis = plt.subplots(2, 2)\n",
        "  \n",
        "# For Sine Function\n",
        "axis[0, 0].plot(X, Y1)\n",
        "axis[0, 0].set_title(\"Sine Function\")\n",
        "  \n",
        "# For Cosine Function\n",
        "axis[0, 1].plot(X, Y2)\n",
        "axis[0, 1].set_title(\"Cosine Function\")\n",
        "  \n",
        "# For Tangent Function\n",
        "axis[1, 0].plot(X, Y3)\n",
        "axis[1, 0].set_title(\"Tangent Function\")\n",
        "  \n",
        "# For Tanh Function\n",
        "axis[1, 1].plot(X, Y4)\n",
        "axis[1, 1].set_title(\"Tanh Function\")\n",
        "  \n",
        "# Combine all the operations and display\n",
        "plt.show()"
      ]
    },
    {
      "cell_type": "code",
      "execution_count": null,
      "id": "8bf4e389",
      "metadata": {
        "id": "8bf4e389"
      },
      "outputs": [],
      "source": [
        "# Using Numpy to create an array X\n",
        "X = np.arange(0, math.pi*2, 0.05)\n",
        "  \n",
        "# Assign variables to the y axis part of the curve\n",
        "y = np.sin(X)\n",
        "z = np.cos(X)\n",
        "  \n",
        "# Plotting both the curves simultaneously\n",
        "plt.plot(X, y, color='r', label='sin')\n",
        "plt.plot(X, z, color='g', label='cos')\n",
        "  \n",
        "# Naming the x-axis, y-axis and the whole graph\n",
        "plt.xlabel(\"Angle\")\n",
        "plt.ylabel(\"Magnitude\")\n",
        "plt.title(\"Sine and Cosine functions\")\n",
        "  \n",
        "# Adding legend, which helps us recognize the curve according to it's color\n",
        "plt.legend(loc= 'upper right')\n",
        "  \n",
        "# To load the display window\n",
        "plt.show()"
      ]
    },
    {
      "cell_type": "code",
      "execution_count": null,
      "id": "9956b9e3",
      "metadata": {
        "id": "9956b9e3"
      },
      "outputs": [],
      "source": [
        ""
      ]
    },
    {
      "cell_type": "markdown",
      "id": "f0833412",
      "metadata": {
        "id": "f0833412"
      },
      "source": [
        "# Timing Code"
      ]
    },
    {
      "cell_type": "code",
      "execution_count": null,
      "id": "cce6b770",
      "metadata": {
        "id": "cce6b770"
      },
      "outputs": [],
      "source": [
        "import datetime\n",
        "\n",
        "x = datetime.datetime.now()\n",
        "print(x)"
      ]
    },
    {
      "cell_type": "code",
      "execution_count": null,
      "id": "d736cd08",
      "metadata": {
        "id": "d736cd08"
      },
      "outputs": [],
      "source": [
        "Example 1: Computing the time using time module and time.time() function\n"
      ]
    },
    {
      "cell_type": "code",
      "execution_count": null,
      "id": "328f8237",
      "metadata": {
        "id": "328f8237"
      },
      "outputs": [],
      "source": [
        "# program to compute the time\n",
        "# of execution of any python code\n",
        "import time\n",
        " \n",
        "# we initialize the variable start\n",
        "# to store the starting time of\n",
        "# execution of program\n",
        "start = time.time()\n",
        " \n",
        "# we can take any program but for\n",
        "# example we have taken the below\n",
        "# program\n",
        "a = 0\n",
        "for i in range(1000):\n",
        "    a += (i**100)\n",
        " \n",
        "# now we have initialized the variable\n",
        "# end to store the ending time after\n",
        "# execution of program\n",
        "end = time.time()\n",
        " \n",
        "# difference of start and end variables\n",
        "# gives the time of execution of the\n",
        "# program in between\n",
        "print(\"The time of execution of above program is :\", end-start)"
      ]
    },
    {
      "cell_type": "code",
      "execution_count": null,
      "id": "4cea4fec",
      "metadata": {
        "id": "4cea4fec"
      },
      "outputs": [],
      "source": [
        "# Python program to show time by perf_counter()\n",
        "from time import perf_counter\n",
        " \n",
        "# integer input from user, 2 input in single line\n",
        "n, m = map(int, input().split())\n",
        " \n",
        "# Start the stopwatch / counter\n",
        "t1_start = perf_counter()\n",
        " \n",
        "for i in range(n):\n",
        "    t = int(input()) # user gave input n times\n",
        "    if t % m == 0:\n",
        "        print(t)\n",
        " \n",
        "# Stop the stopwatch / counter\n",
        "t1_stop = perf_counter()\n",
        " \n",
        "print(\"Elapsed time:\", t1_stop, t1_start)\n",
        " \n",
        " \n",
        "print(\"Elapsed time during the whole program in seconds:\",\n",
        "                                        t1_stop-t1_start)"
      ]
    }
  ],
  "metadata": {
    "kernelspec": {
      "display_name": "Python 3 (ipykernel)",
      "language": "python",
      "name": "python3"
    },
    "language_info": {
      "codemirror_mode": {
        "name": "ipython",
        "version": 3
      },
      "file_extension": ".py",
      "mimetype": "text/x-python",
      "name": "python",
      "nbconvert_exporter": "python",
      "pygments_lexer": "ipython3",
      "version": "3.9.4"
    },
    "colab": {
      "name": "Basic Understanding of Python.ipynb",
      "provenance": [],
      "include_colab_link": true
    }
  },
  "nbformat": 4,
  "nbformat_minor": 5
}