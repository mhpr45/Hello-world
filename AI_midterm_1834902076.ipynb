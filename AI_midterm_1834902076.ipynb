{
  "nbformat": 4,
  "nbformat_minor": 0,
  "metadata": {
    "colab": {
      "name": "AI_midterm_1834902076.ipynb",
      "provenance": [],
      "collapsed_sections": [],
      "authorship_tag": "ABX9TyMP6KZkVZZakM/YMdPlto9J",
      "include_colab_link": true
    },
    "kernelspec": {
      "name": "python3",
      "display_name": "Python 3"
    },
    "language_info": {
      "name": "python"
    }
  },
  "cells": [
    {
      "cell_type": "markdown",
      "metadata": {
        "id": "view-in-github",
        "colab_type": "text"
      },
      "source": [
        "<a href=\"https://colab.research.google.com/github/mhpr45/Hello-world/blob/master/AI_midterm_1834902076.ipynb\" target=\"_parent\"><img src=\"https://colab.research.google.com/assets/colab-badge.svg\" alt=\"Open In Colab\"/></a>"
      ]
    },
    {
      "cell_type": "code",
      "execution_count": 34,
      "metadata": {
        "id": "khgrhJsvNSbc",
        "colab": {
          "base_uri": "https://localhost:8080/"
        },
        "outputId": "ddb2cd09-d4d5-4e86-abce-4e5852ede82b"
      },
      "outputs": [
        {
          "output_type": "stream",
          "name": "stdout",
          "text": [
            "Enter The Total No. of List: 3\n",
            "enter the Value of 1 Element : -9\n",
            "enter the Value of 2 Element : 4\n",
            "enter the Value of 3 Element : 1\n",
            "Positive List is :  [4, 1]\n",
            "Negative List is :  [-9]\n"
          ]
        }
      ],
      "source": [
        "#ANS TO THE QUESTION NO 1:\n",
        "List = []\n",
        "Positive = []\n",
        "Negative = []\n",
        "Number = int(input(\"Enter The Total No. of List: \"))\n",
        "for i in range(1, Number + 1):\n",
        "    value = int(input(\"enter the Value of %d Element : \" %i))\n",
        "    List.append(value)\n",
        " \n",
        "for j in range(Number):\n",
        "    if(List[j] >= 0):\n",
        "        Positive.append(List[j])\n",
        "    else:\n",
        "        Negative.append(List[j])\n",
        " \n",
        "print(\"Positive List is : \", Positive)\n",
        "print(\"Negative List is : \", Negative)\n"
      ]
    },
    {
      "cell_type": "code",
      "source": [
        "#Ans To The Q No 3: \n",
        "def binarySearch(array, x, low, high):\n",
        "    while low <= high:\n",
        "        mid = low + (high - low)//2\n",
        "        if array[mid] == x:\n",
        "            return mid\n",
        "        elif array[mid] < x:\n",
        "            low = mid + 1\n",
        "        else:\n",
        "            high = mid - 1\n",
        "    return -1\n",
        "array = [3, 4, 5, 6, 7, 8, 9]\n",
        "x = 4\n",
        "result = binarySearch(array, x, 0, len(array)-1)\n",
        "if result != -1:\n",
        "    print(\"Our Desire item at index \" + str(result))\n",
        "else:\n",
        "    print(\"Not found\")"
      ],
      "metadata": {
        "colab": {
          "base_uri": "https://localhost:8080/"
        },
        "id": "qq6tUptQvXfU",
        "outputId": "2b562148-ba36-4590-d253-77f6c729ad79"
      },
      "execution_count": 17,
      "outputs": [
        {
          "output_type": "stream",
          "name": "stdout",
          "text": [
            "Our Desire item at index 1\n"
          ]
        }
      ]
    },
    {
      "cell_type": "code",
      "source": [
        "#ANS TO THE QUESTION NO-2: \n",
        "\n",
        "string = 'citycity'\n",
        "half = int(len(string) / 2)\n",
        " \n",
        "if len(string) % 2 == 0:  # even\n",
        "    first_str = string[:half]\n",
        "    second_str = string[half:]\n",
        "else:  # odd\n",
        "    first_str = string[:half]\n",
        "    second_str = string[half+1:]\n",
        " \n",
        "# symmetric\n",
        "if first_str == second_str:\n",
        "    print('The entered string is symmertical')\n",
        "else:\n",
        "    print('The entered string is not symmertical')\n",
        " \n",
        "# palindrome\n",
        "if first_str == second_str[::-1]:\n",
        "   print(\"The entered string is palindrome\")\n",
        "else:\n",
        "  print(\"The entered string is not palindrome\")"
      ],
      "metadata": {
        "colab": {
          "base_uri": "https://localhost:8080/"
        },
        "id": "w7w6fxXWxaxh",
        "outputId": "c3b4396b-f146-470d-8101-8f8443e33ce2"
      },
      "execution_count": 25,
      "outputs": [
        {
          "output_type": "stream",
          "name": "stdout",
          "text": [
            "The entered string is symmertical\n",
            "The entered string is not palindrome\n"
          ]
        }
      ]
    },
    {
      "cell_type": "code",
      "source": [
        "#ANS TO THE QUESTION NO-2: \n",
        "string = 'amaama'\n",
        "half = int(len(string) / 2)\n",
        " \n",
        "if len(string) % 2 == 0:  # even\n",
        "    first_str = string[:half]\n",
        "    second_str = string[half:]\n",
        "else:  # odd\n",
        "    first_str = string[:half]\n",
        "    second_str = string[half+1:]\n",
        " \n",
        "# symmetric\n",
        "if first_str == second_str:\n",
        "    print('The entered string is symmertical')\n",
        "else:\n",
        "    print('The entered string is not symmertical')\n",
        " \n",
        "# palindrome\n",
        "if first_str == second_str[::-1]:\n",
        "   print(\"The entered string is palindrome\")\n",
        "else:\n",
        "  print(\"The entered string is not palindrome\")"
      ],
      "metadata": {
        "colab": {
          "base_uri": "https://localhost:8080/"
        },
        "id": "zDkEsQVL0ult",
        "outputId": "1bed2a3a-e370-4087-ce57-dbe29369a968"
      },
      "execution_count": 24,
      "outputs": [
        {
          "output_type": "stream",
          "name": "stdout",
          "text": [
            "The entered string is symmertical\n",
            "The entered string is palindrome\n"
          ]
        }
      ]
    }
  ]
}